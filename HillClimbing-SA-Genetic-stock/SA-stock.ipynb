{
 "cells": [
  {
   "cell_type": "code",
   "execution_count": 13,
   "metadata": {},
   "outputs": [],
   "source": [
    "import numpy as np\n",
    "import math\n",
    "import random"
   ]
  },
  {
   "attachments": {},
   "cell_type": "markdown",
   "metadata": {},
   "source": [
    "# Get input:\n",
    "This function gets an integer, then get the requests and stock length for that case."
   ]
  },
  {
   "cell_type": "code",
   "execution_count": 14,
   "metadata": {},
   "outputs": [],
   "source": [
    "def open_file(i):\n",
    "    # Open input file\n",
    "    if (i == 1):\n",
    "        infile = open('input1.stock', 'r')\n",
    "    elif (i == 2):\n",
    "        infile = open('input2.stock', 'r')\n",
    "    elif (i == 3):\n",
    "        infile = open('input3.stock', 'r')\n",
    "    else:\n",
    "        infile = open('input4.stock', 'r')\n",
    "\n",
    "    # Read instance header for the pr1002\n",
    "    length = int(infile.readline().strip().split()[2]) #length\n",
    "    infile.readline()\n",
    "    infile.readline()\n",
    "    requests = np.array(list(map(int, infile.readline().strip().split(', ')[:-1]))) #requests\n",
    "\n",
    "    # Close input file\n",
    "    infile.close()\n",
    "    \n",
    "    return length, requests"
   ]
  },
  {
   "attachments": {},
   "cell_type": "markdown",
   "metadata": {},
   "source": [
    "# Cost function:\n",
    "This function calculates the cost of the given order. The given order, determines cuts one by one.\n",
    "\n",
    "This is how to calculate cost:\n",
    "1. Until all the requests have been read:\n",
    "2. Add the request to last stock.\n",
    "3. If the sum of requests got more than stock length, subtract the request from sum.\n",
    "4. Add one to used stock number."
   ]
  },
  {
   "cell_type": "code",
   "execution_count": 15,
   "metadata": {},
   "outputs": [],
   "source": [
    "def calculate_cost(order, length):\n",
    "    cost = 0\n",
    "    s = 0\n",
    "    i = 0\n",
    "    while(s <= length and i < len(order)):\n",
    "        # Add the request\n",
    "        s += order[i]\n",
    "        if (s > length):\n",
    "            # Subtract the request and add one to number of stocks\n",
    "            s -= order[i]\n",
    "            i -= 1\n",
    "            cost += 1\n",
    "            s = 0\n",
    "        i += 1\n",
    "    return cost"
   ]
  },
  {
   "attachments": {},
   "cell_type": "markdown",
   "metadata": {},
   "source": [
    "# Neighbour:\n",
    "Using this function, we determine the neighbour(next order) of current order, considering the temperature.\n",
    "This is how we do it:\n",
    "1. First we get two random numbers for index.\n",
    "2. Then we change the order, swapping the random indexes.\n",
    "3. If we get the lower cost by this new order, we accept the new order.\n",
    "4. Otherwise, by chance of: $$\\frac{\\exp^{(cost - new\\_cost)}}{temperature}$$ we accept the new order."
   ]
  },
  {
   "cell_type": "code",
   "execution_count": 16,
   "metadata": {},
   "outputs": [],
   "source": [
    "def neighbour(order, temperature, length):\n",
    "    new_order = order.copy()\n",
    "    # random numbers\n",
    "    i = random.randint(0, len(order) - 1)\n",
    "    j = random.randint(0, len(order) - 1)\n",
    "    \n",
    "    # new order\n",
    "    temp = new_order[i]\n",
    "    new_order[i] = new_order[j]\n",
    "    new_order[j] = temp\n",
    "    \n",
    "    # Calculate costs\n",
    "    cost = calculate_cost(order, length)\n",
    "    new_cost = calculate_cost(new_order, length)\n",
    "    \n",
    "    # IF the new order was better\n",
    "    if (new_cost < cost):\n",
    "        order = new_order\n",
    "        return order\n",
    "        \n",
    "    # If the new order was not better. accept it by some chance\n",
    "    rand = random.random()\n",
    "    if (rand < math.exp((cost - new_cost)/temperature)):\n",
    "        order = new_order\n",
    "    \n",
    "    return order"
   ]
  },
  {
   "attachments": {},
   "cell_type": "markdown",
   "metadata": {},
   "source": [
    "# Main function:\n",
    "Given temperature, alpha, TL and the data:\n",
    "1. We get the data.\n",
    "2. Create a permutation of requests.\n",
    "3. Then, while temperature > 0.1:\n",
    "4. TL times, do:\n",
    "5. Find a neibour to this order.\n",
    "6. If the order is better than best order, update the best order.\n",
    "7. update the temperature by: $$temperature = temperature*\\alpha$$"
   ]
  },
  {
   "cell_type": "code",
   "execution_count": 17,
   "metadata": {},
   "outputs": [],
   "source": [
    "def simulated_annealing(temperature, alpha, TL, i):\n",
    "    # Get the input\n",
    "    length, requests = open_file(i)\n",
    "    \n",
    "    # Create a permutation\n",
    "    requests = np.random.permutation(requests)\n",
    "\n",
    "    best_order = []\n",
    "    least_cost = np.Inf\n",
    "    costs = []\n",
    "    best_costs = []\n",
    "    while(temperature > 0.1):\n",
    "        for i in range(TL):\n",
    "            # Find the neighbour\n",
    "            requests = neighbour(requests, temperature, length)\n",
    "            \n",
    "            # If the cost was lower than best order, update the least cost\n",
    "            if (calculate_cost(requests, length) < least_cost):\n",
    "                best_order = requests\n",
    "                least_cost = calculate_cost(requests, length)\n",
    "                \n",
    "            costs.append(calculate_cost(requests, length))\n",
    "            best_costs.append(least_cost)\n",
    "        temperature *= alpha\n",
    "        \n",
    "    return best_order, least_cost, costs, best_costs"
   ]
  },
  {
   "attachments": {},
   "cell_type": "markdown",
   "metadata": {},
   "source": [
    "results of input1, which finds an order, using only $\\bf{51}$ stock to cover the requests.\n",
    "\n",
    "The order given, determines that in each step which request must be handled."
   ]
  },
  {
   "cell_type": "code",
   "execution_count": 18,
   "metadata": {},
   "outputs": [
    {
     "name": "stdout",
     "output_type": "stream",
     "text": [
      "[672 266 346 354  53 678 109 280 660 117 506 356 515 145 116  23 315 549\n",
      " 148 460 337 988 186  61 457  70 187 463 119 405 115 753 437 284 632 149\n",
      "  84 224 753 441 241 312 581 301 249 689  75 532 286  80 501 412 170  18\n",
      " 107 592  46  60  88 351 248 868 557 306  92 518 135 149 292 627 144 557\n",
      " 266 933 409 517 507 149 283 232  69 371 106 123  92 211 686  79 365 230\n",
      " 402 967 180 788 805 118 125 557 295 648 126 218 251  33 495 286 653 788\n",
      " 106 987 716 268 264 424  88  99 125 662 312 370  45 525 181 246 555 914\n",
      " 368  43 544 278 609 106 106 618  71 414 171 333  78]\n",
      "51\n"
     ]
    }
   ],
   "source": [
    "order, least, costs, best_costs = simulated_annealing(1, 0.99, 1000, 1) #input = input1.stock\n",
    "print(order)\n",
    "print(least)"
   ]
  },
  {
   "attachments": {},
   "cell_type": "markdown",
   "metadata": {},
   "source": [
    "results of input2, which finds an order, using only $\\bf{78}$ stock to cover the requests.\n",
    "\n",
    "The order given, determines that in each step which request must be handled."
   ]
  },
  {
   "cell_type": "code",
   "execution_count": 211,
   "metadata": {},
   "outputs": [
    {
     "name": "stdout",
     "output_type": "stream",
     "text": [
      "[2100 2200 1380 2100 2050 2200 2200 2150 1380 1710 1820 1820 1380 1820\n",
      " 1820 1880 2140 1380 2000 1820 1820 1710 1710 1380 2050 1520 2200 1520\n",
      " 1880 1710 1710 1820 1560 2140 1380 2200 1820 2140 2000 1380 2050 1560\n",
      " 2100 2200 2000 2050 1520 1710 1820 1520 2140 2150 1380 1820 2050 1930\n",
      " 1520 2140 2200 2140 1930 1560 1560 1880 1380 1930 2100 1930 1520 1710\n",
      " 1930 1820 1560 1880 2100 1560 2100 1880 1820 1880 1930 1520 2140 1380\n",
      " 2200 1710 2150 2150 2000 2050 1520 2150 2200 1560 2150 1880 2140 1380\n",
      " 1880 1520 2200 1560 2100 1820 1560 2200 1930 1710 2050 1380 2150 1520\n",
      " 1520 2150 1930 1520 2050 1520 2000 1520 2150 1880 1930 2200 1880 2200\n",
      " 1380 1930 1520 2100 1380 2100 2100 1380 1930 2150 2050 1380 2100 1560\n",
      " 1820 2140 1380 2150 1820 2000 2000 1520 2000 2150 1380 1880 1560 1930\n",
      " 2150 2200 2100 1710 1520 1820 2050 1710 1880 1520 2140 1880 2200 1520\n",
      " 2050 1930 1520 2200 2000 2140 1380 1930 1380 1930 2140 1710 1880 1520\n",
      " 2140 1820 1930 2150 1520 1560 2100 1880 1820 2000 2150 2200 1710 1880\n",
      " 1880 1930 1380 2200 1710 1930 1930 1880 1520 2140 2200 2150 2200 2140\n",
      " 2140 1930 1520 1380 2050 2150 2150 2100]\n",
      "78\n"
     ]
    }
   ],
   "source": [
    "order, least, costs, best_costs = simulated_annealing(1, 0.99, 1000, 2) #input = input2.stock\n",
    "print(order)\n",
    "print(least)"
   ]
  },
  {
   "attachments": {},
   "cell_type": "markdown",
   "metadata": {},
   "source": [
    "results of input3, which finds an order, using only $\\bf{96}$ stock to cover the requests.\n",
    "\n",
    "The order given, determines that in each step which request must be handled."
   ]
  },
  {
   "cell_type": "code",
   "execution_count": 214,
   "metadata": {},
   "outputs": [
    {
     "name": "stdout",
     "output_type": "stream",
     "text": [
      "[  7   8  52  99 255  49   2   5  10  11  29 403   2   3   5 161   1   1\n",
      " 313   5 421 405   4 280   3  14   6   3  10   8 174   8 229   3  91   5\n",
      "   1  18   7  21  87  85   4   8   1   4   6 359   6   4 152   1   7  12\n",
      " 277   3  16  16  50 159 275  18   1  22 144   4  23 264   2  13   9 251\n",
      "   2   7   2 225  18   6 116   2  14   4  13   1 167  37  90   1 147  41\n",
      "   1 134   2 169   5 110  12  17   1 152 134  11  10   9   2   6  11   2\n",
      " 335   1 152   1 172  13   1   9 170   6   2 102   5   8  11   6   2   2\n",
      "  19   3  92   3   7   9   2  10   5   3 321  14   1   8 108 318   3   4\n",
      "  10   2  10   5   2   8  21   4   1   3  43   3 153   1  18 225   8   1\n",
      "   5   1   5   9 271 133  16   3  26  88   2   6 245   6   1   2  17   7\n",
      "   6  14   9  27   4   7  10   4 204 239  26 196  16   1 279   1   2   1\n",
      "   3   4   9  45  40 250   5   7   7   4  10  93  78  12   9  14   4   8\n",
      "   8   3   4 152   2 199   3 263   1   7  16 162   2   7   3   8   9 386\n",
      "   1   1   1  96   3   9  11   9   2   2   9   7 170  11   3 234 430   5\n",
      "  17  21   2   4 147 314 311   1   6  12  24   6 112 234   2   6   3   7\n",
      " 187 120   1   4   1   4   4   3  14  16 243  12   1   2   1  15 299   1\n",
      "   8   6  12   6   3   5   5   4  87   3   9   7 244   6  11  11  12   6\n",
      " 188   2  10  11  34   1  41 108  16  10  17   6   2   1 201 183   5   3\n",
      "   9 263 213  34  12  10  14   8   4   8   1   9 186   4   6   9  13   3\n",
      "  10   1   3  19  24   1  89   6  98   4 159  34 154   2  13   1  38  13\n",
      "   3   1 399 275   3   7 191   1   2   1  12  14 152   6   9   6   9  11\n",
      " 197  79   2   1   2   3   5   2  19   3   6  23   4   5  15   3  11   4\n",
      "  17 339   7   2   7   2   4   7   1   5  15   5   2   2   1 147   9   8\n",
      "  36 205   9  16  19  92   5 331   8  11 319 167 134 138 209   6   4  10\n",
      "   5 224 106   8   6  17  87  98   2  17 282  24  15   2   7   3   4  15\n",
      "   5 343   5 115 350   8 138  16   3  25 369  35   7   5   7 228  86  14\n",
      "  92  67   4 314 124   8   2   8   3   7   1   6   7  49  66 169   2   3\n",
      "   3   1   1  15 153   9  13 130   4   3   8  11   4   8 124   9 163   9\n",
      "   8   4 364  61 458   8   7 214   2 204 479  86   2  13   7   5   1   4\n",
      "   1  59 151 170   1   7   6 470   4  12   1   3   3   6  68   6   3 245\n",
      " 150   5  14   7 134  32   1   2   1  13 158   3   1   1   6   5  11  19\n",
      "  15   3   3   2   3   5  21   1   7   2   7   5   2   8   6 271   5  12\n",
      " 209 314   1  18  12 128  17   8   7 433   2   1   1   3   4   1  13 290\n",
      "   1   9   2  92 160   5  12 288   2   7   3   3   2 360  97   9   9   3\n",
      "   3   1   3  21   1 111 260   5   5  72  17  68  43  76 298   3   1   6\n",
      "  54   2   8   5   6 361 265 184  11   5  10   9   8   7   7   2  23   1\n",
      "  39  27   2   2   3   1   2  12   5  14   1 139   3   2 132   8  24  24\n",
      "   8  16   9   3   7 178 274   6   6   6   1   4   1 419   4 157   6 166\n",
      "   7   3   4   4   7   1 126  10  23  18  18   9  14   2  13  10 167 198\n",
      "   5  10   6   5   7   4 116   1 156   4 180   9   8   7   1 124 313 144\n",
      "   9   1   2  12   5  18   7   5   1   5   3   1   4   6   1   5 109 131\n",
      "  25   9   4   2   5 281 138 314   6  66   4   9   2  74   2   8  13   2\n",
      " 264   8   6  27   6   2   2  86   7 189   4  21   3   7 255   2 224   1\n",
      "   5   9 227   1  13   5 243  21 111  14   6   7   9  49   1   1   5   2\n",
      "  21 245 243  14  12  11  20 240   7 174   6   4   5 237   9  14   7   6\n",
      "   3   8 178   1 411   3  15   2  11   3   4   3   1   2   4 133   3  28\n",
      "  11 125   7  11 165   4   5   9  18  26   2   2  75   2   9  76 102   1\n",
      "   1   2  11  14 135   3   2 118   9 315  38   6   5]\n",
      "96\n"
     ]
    }
   ],
   "source": [
    "order, least, costs, best_costs = simulated_annealing(1, 0.99, 1000, 3) #input = input3.stock\n",
    "print(order)\n",
    "print(least)"
   ]
  },
  {
   "attachments": {},
   "cell_type": "markdown",
   "metadata": {},
   "source": [
    "results of input4, which finds an order, using only $\\bf{218}$ stock to cover the requests.\n",
    "\n",
    "The order given, determines that in each step which request must be handled."
   ]
  },
  {
   "cell_type": "code",
   "execution_count": 213,
   "metadata": {},
   "outputs": [
    {
     "name": "stdout",
     "output_type": "stream",
     "text": [
      "[ 1 45  6 27  5  6 36 37 22 80 10  9 32 16 52 22 29  4 30 12  9 43  6 10\n",
      "  2  6 21 17 58  6 13 31 51 15  3 32 46 20 13  3  9 73 37 11 20 28  2  4\n",
      " 24 68 54 17  8  6  1 80 18 41 19 29  4  4 10  5 16  9 44 23  1 23  2 20\n",
      "  5 20 44 26 11 15 10 38  6 29 14 59  6 20  8  7 73 19 46 54  7  8 16 67\n",
      " 20 16  5  2 40  4 20 46  1 25 34  3 32 30  9 53  4 30 30 24 25 28 12  5\n",
      "  2 28 24 21 36  4 17 18 63 35 98 76 10 15 68 15  2 79  7  7 13 13  4 10\n",
      " 52  5 33  1 10  9 45 39 33  8 12  3 36 18 22 23  7  5 65  4 18 25  8  3\n",
      "  3  1  8 47 65  1 11 56  2  1 39  2 37 13 14  8 18  8 20  2 47 25 16 24\n",
      "  6  3  7 38 65 33  5 20  7 14 38  7 15  9 23 44  7 11 14  5  9  9 21 16\n",
      " 87  1 36 50  3  5  3 12 81 32 41  7  2 21 78  4  2 32  1 30  4  4 14 18\n",
      " 16  4  6  4  5 36  5  3  1 60  8  5 11  7 21 59  6 67 27 48 34 18 11 68\n",
      " 13  8  5 27  3 47 11  6 17 43  6  9 22  1 20 13  9 24 34 26 13 33 16 51\n",
      " 12  2  5  3 14 18 10  4 15  7 22  6 15  3  3  5 16  4 15  4 24 26 20 65\n",
      " 11 73 23  3  5  4 17  3 15 51 21 13 17  5  3  2 16  7 44  1 54  6 81  5\n",
      " 12  6  6 20 14 20 18  2  5  1  3  7  1 26 56 71  9 13 47 45  5 24 74 30\n",
      "  6  5  5  2  5 18 18  5 35  2  4  4 54 39 13  5 32  9 20 74 24 18 57  1\n",
      " 36 54  8 14 29  5  1 11 12  8  8 10 20  5 73  3 15 69 14 33  2  5  3 26\n",
      " 66 31  2  3 31  6 55 23 12  5 11 37  7 16 32 47 13 23 35 10 56 12  8  3\n",
      " 22 22 18  6 27 31 13 48 15 58  9 16 82 29 52 61 37 92 61 28  7 15  2  1\n",
      "  8 26 12 15 10 16 43  5 23  1 80 15 33 51 12 14 50 14 13  9 45 51 14 21\n",
      " 38 21 58 34 34 55  5 13 18 40 25 78 19 18 80  4 84 11  3  7  7  1 33  4\n",
      "  6  1 36  4  4 19 21  5  7  3  8 60  3  6  7 21 66 11  8 87 88 14 62 21\n",
      "  2 40 21 35  4 67 31 71 15  2  7  1  2  7  4 10 56  4 18 42 25  5  3  2\n",
      " 11  1  4 24 63 72 12  3 79 67 18  6 33  4 36 25  3 22 17 21  8 27 17  1\n",
      "  4 24  2 47 57 32 89  6  6 15 68 26 66 38 22 35 62 16  1 47  5 18  2 19\n",
      " 51 43 19  6 62  4 52 26 18  8 21  8  8 23 13 22  2 37 15 15  6  5 20 19\n",
      " 39  3 51 20  2  5  2 59  9 20  2  8  2  3 91  4 74 27  3 47  6  4 27  6\n",
      " 52 89  6  8 92 26 27  1 50 34 16 12 31  7  9 10  3 24  2  2 26 14 56 21\n",
      " 20 37 19 16 22 16 46  7 11  5  4 72 93  9  5 59  6  5  7  9 34  7 58 19\n",
      "  2  2 44  1  2 20 95  2 46 14 17 12  6  4 22  5 48  3 15  6 13 34  6 17\n",
      " 22 89 10 23 72 14  2 32 30 18  4  4 61  7  2 12  1 51 22 16  1 47 44 12\n",
      "  7 12 59 99 98 24 70  6 69 25  2  2 50 30 67 27  4 34 10 54  4  5 61  9\n",
      " 17  3  9 31  4 35  7 38 28 74  3 10 10  9  5  5  4 39 35 47 46 93 11 46\n",
      " 16 26 75 18  6  6 21 71 10 90 14 33 12 37 38  4  1 20 37  6  1 14  2 56\n",
      " 10 25  6 34 29 14  7 47 14 10 31  3  2 28  8 10 13 28  6  5 74 12  9  3\n",
      " 15 30 27 13 12 48 33  3  9  3 16 38  1 19  1 43 32  1 19 46  3  7 21 20\n",
      " 31 24 44 44  6  9 26 13 91  2 47 43 34 10 56  5 18 66 10 27 24 43  6  3\n",
      "  9 22 13 38  8  7  8 33 50  2  5]\n",
      "218\n"
     ]
    }
   ],
   "source": [
    "order, least, costs, best_costs = simulated_annealing(1, 0.99, 1000, 4) #input = input4.stock\n",
    "print(order)\n",
    "print(least)"
   ]
  }
 ],
 "metadata": {
  "kernelspec": {
   "display_name": "Python 3",
   "language": "python",
   "name": "python3"
  },
  "language_info": {
   "codemirror_mode": {
    "name": "ipython",
    "version": 3
   },
   "file_extension": ".py",
   "mimetype": "text/x-python",
   "name": "python",
   "nbconvert_exporter": "python",
   "pygments_lexer": "ipython3",
   "version": "3.8.6"
  },
  "orig_nbformat": 4
 },
 "nbformat": 4,
 "nbformat_minor": 2
}
