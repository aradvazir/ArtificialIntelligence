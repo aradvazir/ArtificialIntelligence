{
 "cells": [
  {
   "cell_type": "code",
   "execution_count": 1,
   "id": "dd2775da",
   "metadata": {},
   "outputs": [],
   "source": [
    "import numpy as np"
   ]
  },
  {
   "cell_type": "markdown",
   "metadata": {},
   "source": [
    "# Get input:\n",
    "This function gets an integer, then get the requests and stock length for that case."
   ]
  },
  {
   "cell_type": "code",
   "execution_count": 2,
   "metadata": {},
   "outputs": [],
   "source": [
    "def Get_input(i):\n",
    "    # Open input file\n",
    "    if (i == 1):\n",
    "        infile = open('input1.stock', 'r')\n",
    "    elif (i == 2):\n",
    "        infile = open('input2.stock', 'r')\n",
    "    elif (i == 3):\n",
    "        infile = open('input3.stock', 'r')\n",
    "    else:\n",
    "        infile = open('input4.stock', 'r')\n",
    "\n",
    "    # Read instance header for the pr1002\n",
    "    length = int(infile.readline().strip().split()[2]) #length\n",
    "    infile.readline()\n",
    "    infile.readline()\n",
    "    requests = np.array(list(map(int, infile.readline().strip().split(', ')[:-1]))) #requests\n",
    "\n",
    "    # Close input file\n",
    "    infile.close()\n",
    "    \n",
    "    return length, requests"
   ]
  },
  {
   "cell_type": "markdown",
   "metadata": {},
   "source": [
    "# Cost function:\n",
    "This function calculates the cost of the given order. The given order, determines the indexex of cuts one by one.\n",
    "\n",
    "This is how to calculate cost:\n",
    "1. Until all the requests have been read:\n",
    "2. Add the request to last stock.\n",
    "3. If the sum of requests got more than stock length, subtract the request from sum.\n",
    "4. Add one to used stock number."
   ]
  },
  {
   "cell_type": "code",
   "execution_count": 3,
   "id": "f8914a1b",
   "metadata": {},
   "outputs": [],
   "source": [
    "def calculate_cost(order, stock_length, requests):\n",
    "    cost = 0\n",
    "    s = 0\n",
    "    i = 0\n",
    "    while(s <= stock_length and i < len(order)):\n",
    "        # Add the request\n",
    "        s += requests[order[i]]\n",
    "        if (s > stock_length):\n",
    "            # Subtract the request and add one to number of stocks\n",
    "            s -= requests[order[i]]\n",
    "            i -= 1\n",
    "            cost += 1\n",
    "            s = 0\n",
    "        i += 1\n",
    "    return cost"
   ]
  },
  {
   "cell_type": "markdown",
   "metadata": {},
   "source": [
    "# Selection:\n",
    "We use tournament selection:\n",
    "1. Find 4 random orders.\n",
    "2. return the index of lowest cost."
   ]
  },
  {
   "cell_type": "code",
   "execution_count": 4,
   "id": "b8fb62b0",
   "metadata": {},
   "outputs": [],
   "source": [
    "def tournament_selection(costs):\n",
    "    min_cost = np.inf\n",
    "    best_index = 0\n",
    "    \n",
    "    # Find the lowest cost between for random orders\n",
    "    for i in range(4):\n",
    "        index = np.random.randint(len(costs))\n",
    "        cost = costs[index]\n",
    "        \n",
    "        # Update the best index\n",
    "        if cost < min_cost:\n",
    "            min_cost = cost\n",
    "            best_index = index\n",
    "            \n",
    "    return best_index"
   ]
  },
  {
   "cell_type": "markdown",
   "metadata": {},
   "source": [
    "# Crossover:\n",
    "Creating two new order, from given orders.\n",
    "1. Get two random numbers named index1 and index2\n",
    "2. make sure $index1 < index2$\n",
    "3. create n_order1 and n_onder2 of n zeros\n",
    "4. copy order1 and order2 from index1 to index2 to n_order1 and n_order2 respectively.\n",
    "5. then from index2 trought index2, add anything from order1(order2) to n_order2(n_order1) if it hasn't been copied yet."
   ]
  },
  {
   "cell_type": "code",
   "execution_count": 5,
   "id": "9ec52646",
   "metadata": {},
   "outputs": [],
   "source": [
    "def crossover(order1, order2, n):\n",
    "    # Random numbers\n",
    "    index1 = np.random.randint(n)\n",
    "    index2 = np.random.randint(n)\n",
    "    if(index1 > index2):\n",
    "        index1, index2 = index2, index1\n",
    "    \n",
    "    # copy from index1 to index2\n",
    "    n_order1 = np.zeros(n, dtype='int')\n",
    "    n_order2 = np.zeros(n, dtype='int')\n",
    "    n_order1[index1:index2+1] = order1[index1:index2+1].copy()\n",
    "    n_order2[index1:index2+1] = order2[index1:index2+1].copy()\n",
    "    \n",
    "    j = index2+1\n",
    "    k = index2+1\n",
    "    \n",
    "    # copy the rest from the other parent, if has not been yet copied\n",
    "    for i in range(n):\n",
    "        if(not (order1[(index2+1+i)%n] in n_order2)):\n",
    "            n_order2[j%n] = order1[(index2+1+i)%n]\n",
    "            j = j+1\n",
    "        if(not (order2[(index2+1+i)%n] in n_order1)):\n",
    "            n_order1[k%n] = order2[(index2+1+i)%n]\n",
    "            k = k+1\n",
    "            \n",
    "    return n_order1, n_order2"
   ]
  },
  {
   "cell_type": "markdown",
   "metadata": {},
   "source": [
    "# Mutation:\n",
    "change two random indexes."
   ]
  },
  {
   "cell_type": "code",
   "execution_count": 6,
   "id": "4b5c6ada",
   "metadata": {},
   "outputs": [],
   "source": [
    "def scramble_mutation(order):\n",
    "    # Random number\n",
    "    index1 = np.random.randint(len(order))\n",
    "    index2 = np.random.randint(len(order))\n",
    "        \n",
    "    # Swap indexes\n",
    "    t = order[index1].copy()\n",
    "    order[index1] = order[index2].copy()\n",
    "    order[index2] = t\n",
    "    return order"
   ]
  },
  {
   "cell_type": "markdown",
   "metadata": {},
   "source": [
    "# Stop condition:\n",
    "there are 3 cases:\n",
    "1. If the minimum cost is zero, then cut the running.\n",
    "2. If the minimum cost is same as the last best cost. So add to count (in main function)\n",
    "3. If the minimum cost is lower than last best. (update the best cost)"
   ]
  },
  {
   "cell_type": "code",
   "execution_count": 7,
   "id": "4f0c637e",
   "metadata": {},
   "outputs": [],
   "source": [
    "def stop_condition(costs, last_min):\n",
    "    # Cut the running\n",
    "    if(min(costs) == 0):\n",
    "        last_min = 0\n",
    "        return 0, last_min\n",
    "    \n",
    "    # last min hasn't changed\n",
    "    elif(min(costs) == last_min):\n",
    "        return 0.5, last_min\n",
    "    \n",
    "    # Update the lowest cost\n",
    "    elif(min(costs) < last_min):\n",
    "        last_min = min(costs)\n",
    "        return 1, last_min"
   ]
  },
  {
   "cell_type": "markdown",
   "metadata": {},
   "source": [
    "Using this function, we create the first population of different permutation from 1 to n."
   ]
  },
  {
   "cell_type": "code",
   "execution_count": 8,
   "metadata": {},
   "outputs": [],
   "source": [
    "def data_creation(n, population):\n",
    "    # The population\n",
    "    data = np.zeros((population, n), dtype='int')\n",
    "    for i in range(population):\n",
    "        # A random permutation\n",
    "        data[i] = np.random.permutation(n)\n",
    "        \n",
    "    return np.array(data)"
   ]
  },
  {
   "cell_type": "markdown",
   "metadata": {},
   "source": [
    "# Genetic Algorithm:\n",
    "This is the main algorithm for Genetic:\n",
    "1. Each time, we have population(data), and their costs.\n",
    "2. First of all we sort the population.\n",
    "3. Then Create children using crossover and mutation from selected parents.\n",
    "4. Then sort the childen.\n",
    "5. And at last, Update the population(Generation) with best children.\n",
    "6. We do this until the stop condition is true."
   ]
  },
  {
   "cell_type": "code",
   "execution_count": 18,
   "id": "2f2551ae",
   "metadata": {},
   "outputs": [],
   "source": [
    "def genetic_algorithm(inp, n_pop, iteration, s, replacement_rate, mu_chance):\n",
    "    # Get the input\n",
    "    stock_length, requests = Get_input(inp)\n",
    "    chromosome_len = len(requests)\n",
    "    \n",
    "    # res_min and res_best_per to save the best orders\n",
    "    res_min = np.array([], dtype='int')\n",
    "    res_best_per = np.empty((0, chromosome_len), int)\n",
    "    \n",
    "    for _ in range(s):\n",
    "        count = 0\n",
    "        last_min = np.inf\n",
    "\n",
    "        # Create the initial population\n",
    "        data = data_creation(chromosome_len, n_pop)\n",
    "        costs = np.zeros(n_pop, dtype='int')\n",
    "        \n",
    "        # Calculate costs\n",
    "        for i in range(n_pop):\n",
    "            costs[i] = calculate_cost(data[i], stock_length, requests)\n",
    "\n",
    "        while(count < iteration):\n",
    "            # Check for stop condition\n",
    "            stop, last_min = stop_condition(costs, last_min)\n",
    "            if not stop:\n",
    "                break\n",
    "            # If the best cost hasn't changed\n",
    "            if stop == 0.5:\n",
    "                count += 1\n",
    "            else:\n",
    "                count = 0\n",
    "                \n",
    "            #---------------  Sort the population based on their costs ---------------   \n",
    "            # Sort costs     \n",
    "            sorted_cost = np.sort(costs)\n",
    "            sorted_data = np.empty((0, chromosome_len), int)\n",
    "\n",
    "            # Create new numpy array to store the sorted data\n",
    "            for i in range(n_pop):\n",
    "                for index in np.where(costs == sorted_cost[i])[0]:\n",
    "                    sorted_data = np.append(sorted_data, np.array([data[index].copy()]), axis=0)\n",
    "                    i += 1\n",
    "            data = sorted_data.copy()\n",
    "            costs = sorted_cost.copy()\n",
    "            \n",
    "            #----------  Create n_pop chilren using crossover and mutation ----------- \n",
    "            children = np.empty((0, chromosome_len), int)\n",
    "            for i in range(int(n_pop/2)):\n",
    "                arr_index = []\n",
    "                child = []\n",
    "                # Randomly get two order from the population\n",
    "                for i in range(2):\n",
    "                    arr_index.append(tournament_selection(costs))\n",
    "                    \n",
    "                chance = np.random.rand()\n",
    "                # with 0.95 chance, Create new orders using crossover\n",
    "                if(chance <= 0.95):\n",
    "                    child1, child2 = crossover(data[arr_index[0]], data[arr_index[1]], chromosome_len)\n",
    "                    child.append(child1)\n",
    "                    child.append(child2)\n",
    "                # Otherwise, use the chosen orders themself\n",
    "                else:\n",
    "                    child1, child2 = data[arr_index[0]], data[arr_index[1]]\n",
    "                    child.append(child1)\n",
    "                    child.append(child2)\n",
    "\n",
    "                chance = np.random.rand()\n",
    "                # with mu_chance chance, use mutation to mutate the created children\n",
    "                if(chance <= mu_chance):\n",
    "                    child[0], child[1] = scramble_mutation(child[0]), scramble_mutation(child[1])\n",
    "                children = np.append(children, np.array([child[0]]), axis=0)\n",
    "                children = np.append(children, np.array([child[1]]), axis=0)\n",
    "                \n",
    "            #----------------  Sort the children based on their costs ---------------- \n",
    "            pop_child = len(children) #(G)\n",
    "            cost_children = np.array([], dtype = 'int')\n",
    "            \n",
    "            # Calculate chilred costs\n",
    "            for i in range(pop_child):\n",
    "                cost_children = np.append(cost_children, calculate_cost(children[i], stock_length, requests))\n",
    "\n",
    "            sorted_cost_children = np.sort(cost_children)\n",
    "            sorted_children = np.empty((0, chromosome_len), int)\n",
    "            \n",
    "            # Sort the children, as we did for population\n",
    "            for i in range(pop_child):\n",
    "                for index in np.where(cost_children == sorted_cost_children[i])[0]:\n",
    "                    sorted_children = np.append(sorted_children, np.array([children[index].copy()]), axis=0)\n",
    "                    i += 1\n",
    "            children = sorted_children.copy()\n",
    "            cost_children = sorted_cost_children.copy()\n",
    "            \n",
    "            #-------------  Updating the population(Generation) and costs -------------\n",
    "            # Update the population with best of population and best children\n",
    "            for i in range(int(replacement_rate*(n_pop))):\n",
    "                data[-1*(i+1)] = children[i].copy()\n",
    "                costs[-1*(i+1)] = cost_children[i].copy()\n",
    "\n",
    "        res_min = np.append(res_min, last_min)\n",
    "        res_best_per = np.append(res_best_per, np.array([data[np.where(costs == min(costs))[0][0]]]), axis=0)\n",
    "\n",
    "    return res_min, res_best_per"
   ]
  },
  {
   "cell_type": "markdown",
   "metadata": {},
   "source": [
    "Results for input1. As we can see the lowest cost is 54 and has the given order of cutting.\n",
    "\n",
    "The order given, is based on the data in input1, which means that the numbers are indexes for original data."
   ]
  },
  {
   "cell_type": "code",
   "execution_count": 14,
   "metadata": {},
   "outputs": [
    {
     "name": "stdout",
     "output_type": "stream",
     "text": [
      "[54 55 56 55 56]\n",
      "[  8  27  41  49  80   9  47   7  17  33  15   3  44 127  91  28 131  46\n",
      " 118 128 113 116  23  69 101   4 103  29 129   5  86  83  99   1 133  19\n",
      "  38  34  20 124  98  95  73  89 104  78  14  50 130  54  42 110 125  45\n",
      "  71  96  84  37  32  40 122 106  25  11 107  97  79  24  93 109  64  87\n",
      " 132  90  85  18  59  35   6 102  51  36 119  62  13  60 138  30  22  94\n",
      "  10  81 120 105  12 100 112  72  77  57  56  31  43  58 136 115  63 134\n",
      "  88  61 126 135   0   2 111  74  21  68  67  92 108 114  26 137  66  48\n",
      " 117  82  16  52  55 121 123  53  65  70  76  39  75]\n"
     ]
    }
   ],
   "source": [
    "res_min, res_per = genetic_algorithm(1, 50, 1000, 5, 0.5, 0.5)\n",
    "print(res_min)\n",
    "print(res_per[np.where(res_min == min(res_min))[0][0]])"
   ]
  },
  {
   "cell_type": "markdown",
   "metadata": {},
   "source": [
    "Results for input2. As we can see the lowest cost is 83 and has the given order of cutting.\n",
    "\n",
    "The order given, is based on the data in input2, which means that the numbers are indexes for original data."
   ]
  },
  {
   "cell_type": "code",
   "execution_count": 15,
   "metadata": {},
   "outputs": [
    {
     "name": "stdout",
     "output_type": "stream",
     "text": [
      "[84 84 83 83 83]\n",
      "[ 48  20  59  56 138 124  35  53  58 198 176 115  57  54  31  72 157  99\n",
      "  81 144 179  18  64 163  77 139 126 210  94 129 208  17  87  26 174 122\n",
      " 113 134   6  91 209 104  97 110  88 184 206  38  11  36  14  62 217 181\n",
      " 185 195  98 168 132  68  63 121  49  73 183  78  25  61 165 130  13   7\n",
      "  28   5 135 215 169  10  19 212  24 155   1  29 200  22 164 201  69  82\n",
      " 213  34  70 197 203 133  80 128  65 152  15 131 170  30  52  50 150  43\n",
      "   0  27 190 214 102 193   9 192 189 149 191 101 143  93  55  32  86 114\n",
      "  83  96  16  60 159   8 146 180 127 194 187   2  41 137  21  92  47  89\n",
      "   3  75 116 199 120  42 186 119 100  95  12 111  37  76 171 216 109 161\n",
      " 107  66 172  44 158 108 175 178 173 160 207 166  71 148  67 177 118 147\n",
      " 125 136  90 154 156  46  39  33 202 182 167 112  23 117  84 204   4 140\n",
      " 196 153 103  40 123  79 188 211 151 162  45 142 141  74 145 205 106 105\n",
      "  51  85]\n"
     ]
    }
   ],
   "source": [
    "res_min, res_per = genetic_algorithm(2, 50, 1000, 5, 0.5, 0.5)\n",
    "print(res_min)\n",
    "print(res_per[np.where(res_min == min(res_min))[0][0]])"
   ]
  },
  {
   "cell_type": "markdown",
   "metadata": {},
   "source": [
    "Results for input3. As we can see the lowest cost is 105 and has the given order of cutting.\n",
    "\n",
    "The order given, is based on the data in input3, which means that the numbers are indexes for original data."
   ]
  },
  {
   "cell_type": "code",
   "execution_count": 16,
   "metadata": {},
   "outputs": [
    {
     "name": "stdout",
     "output_type": "stream",
     "text": [
      "[107 108 105 106 108]\n",
      "[579 474 494  19 559 246 225 305 521 528  41 525 664 750 311 216 824  45\n",
      " 315 739 477 248 832 697 842  47 229 242 858 754 169 529 357 159 191 274\n",
      " 296 280 523 199 744 581 756 131 600 511 686 170 177 356  83 527 213 220\n",
      " 379 277 115 141 349 219 693 104 314 815 347 481 150 526 767 463 696 105\n",
      " 338 713  55 224 255 358 586 689 667 108 256 125 289 770 397 786 223 572\n",
      "  77 272 595 764 292 692 124 775 516 265 565 835 189 607 344 577 561 682\n",
      " 627  22 839  78 161 798  33 691 293 384 574 631 562 520 553 657  46 377\n",
      " 571 837  97 227 425 547 795  69 454 261 643 343 102 455 610 578  37 680\n",
      " 466 656 472  49 706 637 146 208 390  68 508 809 158 113 545 734  64 430\n",
      " 592 532 442 668 649 326  71 251 276  58 852 164 298 613 231 856 836 540\n",
      " 820 471 781 800 715  75 727 428 557 544 354 558 464  94 187 185 807 735\n",
      " 826 337 419 658 507 235 647 708 443 333 290 182 381  80  96 429 819 711\n",
      "  30  59 633 413 399 564 408 136 628 844 602 695 103 776 738 393 741 765\n",
      " 406 192 380 369 671 200 226 117 503 288 341 470 763 432 334  60 268 788\n",
      " 622 813 147 679 378 181  98   7 329  40 659 212 753 762 132 287 486 308\n",
      "  12 241 717 322 411 401  89 149 135 319 295 350 716 599 493 239 107 801\n",
      " 655  48 802 469 748 171 303  85 165 536 253 374 794  53 391 623 236  44\n",
      " 243 784 530 855 685 148  42 204 533 116 127 673  84 650 321 458 646 405\n",
      " 843 518 618 816 444 694 421 394 617 441 446 275 140 725 368 260 583 222\n",
      " 234 588 431 372 742 402  36 644 403 768 100 217 120  29 415 302 793 264\n",
      " 160 757 221 504 552  14 688 851 621 479 218 854 684 438 698 206 111 109\n",
      " 114 476 714 676 596 332 681 267 737 340 339 724 616 209 286  61 806 301\n",
      " 418 712 317 818 388 456 175  16  21  92 462 166 582 157 787 121 176 629\n",
      " 746 123 535 591 238 568  65 663 589 560 307 461 729 546 541  34  70  86\n",
      "  95 153 709 297 232 705 365 488  63 126 485 661 152 409 593 502 348 162\n",
      " 186  35 230  74 489 155 118 519 279 538 134   8 184 615 620 211 755 796\n",
      " 423 283 273 636 478 269 841 460 550 270 674 392 133 499 570 838 188  57\n",
      " 758 247 542 244 271 567 604 597 351 703 468 168 732 501 492 662  79  25\n",
      " 728 316  67 420 400 342 417 797 539 310 129 619 325 386 804 573 179 827\n",
      " 364 701  81  32 362 678 263 611  73 262 361 407 249 648 412 190 233 330\n",
      " 196 821 782 810 723 554 635 426 197 142 702 484 336 163 214 537 857 352\n",
      " 387 451 178 726 665 672 497 207 510 769 761 194 605  18 389 603 774 101\n",
      " 259  82 448 498  99 584 457 828 174 512 609  23 422 848 312 576 587 447\n",
      " 823 373 590 640 284 849  28  24 514 291 416 747 156 799 743 652   3 324\n",
      " 452 203 822 524 106 846 722 449 410 366 335 707 601 811 414  54 237 736\n",
      " 318 445 639 435 195 327 294 250 145 645 437 360   2 215  26 440 740 531\n",
      " 850 585 180 371  15  56  76 677 719 509 803 252  20 228 831 608  52 730\n",
      " 483 367 154  13 359  27 345 773 167 137  51 522 395 139  90 759 313 459\n",
      " 128 853 594 777 829 404 490 704 439 669  88 496 257 173 495 434 710 785\n",
      " 465 300  72 699 745 792 548 766 625 240   1 517 355 817 513 202 143 580\n",
      "   4 543 193 675 555   5  11 690 778 771 760 375 205 424  93 783 201 632\n",
      " 569 500 138 473 467 847  10 254 670 733 653 651 515 556 328 780 779  43\n",
      " 624   9 840 566 487 306  17 790 282 614 598 480 398 731 814 491 834 110\n",
      " 266 433 376  87 172 700 285  91  31 119 549 687 183  62 299 654 482 427\n",
      " 320 130 830 436 122 563  50 363 575 642 198 791 721 382 144   6 805 808\n",
      " 506   0 833 323 634 749 370 258 383 331 825 630 151 626 353 396 612 683\n",
      " 309  39 346 812 660 475 772  38  66 789 304 245 450 638 845 751 278 666\n",
      " 718 453 385 210 281 606 534 641 720 752 551 505 112]\n"
     ]
    }
   ],
   "source": [
    "res_min, res_per = genetic_algorithm(3, 50, 1000, 5, 0.5, 0.5)\n",
    "print(res_min)\n",
    "print(res_per[np.where(res_min == min(res_min))[0][0]])"
   ]
  },
  {
   "cell_type": "markdown",
   "metadata": {},
   "source": [
    "Results for input4. As we can see the lowest cost is 243 and has the given order of cutting.\n",
    "\n",
    "The order given, is based on the data in input3, which means that the numbers are indexes for original data."
   ]
  },
  {
   "cell_type": "code",
   "execution_count": 17,
   "metadata": {},
   "outputs": [
    {
     "name": "stdout",
     "output_type": "stream",
     "text": [
      "[245 245 243 244 243]\n",
      "[662 324 600 558 176  63 538 867 344 698 379 158 601 718 348 180 546 218\n",
      " 811 198 454 455 199 850  78 881 589 710 525 653 760  61  54 632 233  20\n",
      " 261 215 341 512 470 478 395 741 249 578 356 133 206 445 123  12 269 166\n",
      " 407 224 720 734 167 212 842 110 893 410 208 244 294 500 807 453 115 393\n",
      " 839 489 780 234  44 868 296 774 300  94 162 692 526 569 613 590 800 645\n",
      " 458 877 373 751 161 353 295 663 165  68 408 495 104 448 361 853 388 895\n",
      " 494 593 821 671 628  84 779  56 417 776 141 783 825 638 301 611 426 749\n",
      " 550 560 861 829 882  23 573 465   2 140 306 333  98   9 896 358 818 420\n",
      " 334 880 331 442 886 837 878  47 510 332 149 828 351 713  60 580 131 226\n",
      " 320 790 824 685 804 485 371 483 153 461 887 181 375 266 307 326 288 187\n",
      " 687 390 391 365 210 769 464 265 524 128 112 189 159 387 397 229 553 587\n",
      " 188 866 834 752 816 708 717 380 472   4 570 316 583 245  22 404  64 441\n",
      " 598 772  11 264 325 665 615 657 377 622 678  86 809  70 481 872 289 429\n",
      " 588 256 272  65 786 631 854 293 548 581 280 843  51 376 803 317 172  49\n",
      " 651 246 292 748 707  14  40 132 327 462 194 793 629 305  32 339 298 255\n",
      " 118  91 754 696 318  21 328 508 745 315 329  79 338 169 582 810 650 116\n",
      " 346  41 195 865 664 107 343 572 740 606 274 535 621 627   5 303 412 822\n",
      "  58 551  24 636 384 278 699 504 863 155 359 428 763 439 117 656 612 190\n",
      "  73 480 884 646  95 533 498 290 114 411 619 832 557 864 574 383 660 398\n",
      " 382  57 405 225 633 643 716 368 178 330 659 576 674 579 185  59 873 568\n",
      " 156 238 784   1 743 586 527 285 369 768 271 727 759 144 522 620  72  53\n",
      " 610 788 885 250 350 894 817 321 778 875  26 496 892 283  74 849 758 196\n",
      " 547 531 733 706 605 554 518  55 418 152   7 335 174 791 277 539 409 644\n",
      " 211 552 635 534 258 297 897 503 299 425 477 860 130 848 676 799 337 304\n",
      " 540 519  27 450  89 728 392 340 413 205  25  37 267 452 831 523 262 668\n",
      " 416 826 184 253 438 163  18 841 220 284 879 726 232 654 738 712   8 858\n",
      " 542  42 345  33 732 737 275 731 487 544 833 869   3 134 681 771  36 591\n",
      " 342 239 126 584 757  10 200 747 183 555 175 695  93 222 497 693 672 585\n",
      "  39 770 191 608 109 876  48 228 399 515 170  76 852  52 625 688 725 814\n",
      " 529 415 217 127 138 723 798  75 655 216 197 888 577 230 556 724 711 630\n",
      " 474 761 684 686 874 432  99 451 101 122 595 414 142 273 739 871  19 221\n",
      " 476 124 352 254 468 599 281 559 460 795 120 777 435 241 815 457 259 463\n",
      " 286 647 673  62 240 312 714 313 251 658 223 641 812 670 652 248 765 360\n",
      " 618 806 827 536 764 785 564 347 602 449 640 364 231 402 257 567 486 691\n",
      " 845 680 213 268 735 282 466 302 336 755 509  82 171 396 357 386 427 677\n",
      " 136 855 667 506 697 517  50 566 323 789 252  28 744 287  96 730 394 840\n",
      " 106 370 203 514 592 571 308 467 378 400 505 753  69 192 319 237 565 781\n",
      " 168 766 349 626 459 501 209 421 649 443   6 381 792 201 805 362 471 532\n",
      " 808  45 596 898 372 719 746 214 105 108 820 434 374  31 207 705 563 756\n",
      " 119  43 157 549 310  38 787 219 447 750 311 709 482 607 679 406 236 182\n",
      " 883 614 366 846 193 235 507 624 135  66 403 121 545 444 715 794 541 669\n",
      " 102  97 100 801 689 634 367 202 173 520 433 773 431 511  67 704 603  92\n",
      "  30 177 260 242 736 530 354 796 103 148 147 469 851 488 891  77 835 314\n",
      " 575 125 490  81 154 270 742 499 775 721 666 424  71 160 179 694 597 440\n",
      " 537 701 279 430 151 146 819 164 675 419 797 682 247  83 475 422   0 862\n",
      " 830  87 639 491 150  29 309  13 473 355 521 145 227  85 767 502 594 561\n",
      " 844 562 637 436 111 838 389 516 813 700  46 385  17 456 609 139 513 762\n",
      " 423  16  35 856  80 890 690 722 276 802 492 870 113 129 661 836 186  90\n",
      " 617 543 528  15 729 648 703 143 782 322 437 204 857 137 604 243 401 823\n",
      " 263  88 484 479 889 847 493 616 623 291 859 642 702 363 446 683  34]\n"
     ]
    }
   ],
   "source": [
    "res_min, res_per = genetic_algorithm(4, 50, 500, 5, 0.5, 0.5)\n",
    "print(res_min)\n",
    "print(res_per[np.where(res_min == min(res_min))[0][0]])"
   ]
  }
 ],
 "metadata": {
  "kernelspec": {
   "display_name": "Python 3 (ipykernel)",
   "language": "python",
   "name": "python3"
  },
  "language_info": {
   "codemirror_mode": {
    "name": "ipython",
    "version": 3
   },
   "file_extension": ".py",
   "mimetype": "text/x-python",
   "name": "python",
   "nbconvert_exporter": "python",
   "pygments_lexer": "ipython3",
   "version": "3.8.6"
  }
 },
 "nbformat": 4,
 "nbformat_minor": 5
}
