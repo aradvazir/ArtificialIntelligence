{
 "cells": [
  {
   "cell_type": "code",
   "execution_count": 69,
   "metadata": {},
   "outputs": [],
   "source": [
    "import numpy as np"
   ]
  },
  {
   "cell_type": "markdown",
   "metadata": {},
   "source": [
    "# Get input:\n",
    "This function gets an integer, then get the requests and stock length for that case."
   ]
  },
  {
   "cell_type": "code",
   "execution_count": 70,
   "metadata": {},
   "outputs": [],
   "source": [
    "def open_file(i):\n",
    "    # Open input file\n",
    "    if (i == 1):\n",
    "        infile = open('input1.stock', 'r')\n",
    "    elif (i == 2):\n",
    "        infile = open('input2.stock', 'r')\n",
    "    elif (i == 3):\n",
    "        infile = open('input3.stock', 'r')\n",
    "    else:\n",
    "        infile = open('input4.stock', 'r')\n",
    "\n",
    "    # Read instance header for the pr1002\n",
    "    length = int(infile.readline().strip().split()[2]) #length\n",
    "    infile.readline()\n",
    "    infile.readline()\n",
    "    requests = np.array(list(map(int, infile.readline().strip().split(', ')[:-1]))) #requests\n",
    "\n",
    "    # Close input file\n",
    "    infile.close()\n",
    "    \n",
    "    return length, requests"
   ]
  },
  {
   "cell_type": "markdown",
   "metadata": {},
   "source": [
    "# Cost function:\n",
    "This function calculates the cost of the given order. The given order, determines cuts one by one.\n",
    "\n",
    "This is how to calculate cost:\n",
    "1. Until all the requests have been read:\n",
    "2. Add the request to last stock.\n",
    "3. If the sum of requests got more than stock length, subtract the request from sum.\n",
    "4. Add one to used stock number."
   ]
  },
  {
   "cell_type": "code",
   "execution_count": 71,
   "metadata": {},
   "outputs": [],
   "source": [
    "def calculate_cost(order, stock_length):\n",
    "    cost = 0\n",
    "    s = 0\n",
    "    i = 0\n",
    "    while(s <= stock_length and i < len(order)):\n",
    "        # Add the request\n",
    "        s += order[i]\n",
    "        if (s > stock_length):\n",
    "            # Subtract the request and add one to number of stocks\n",
    "            s -= order[i]\n",
    "            i -= 1\n",
    "            cost += 1\n",
    "            s = 0\n",
    "        i += 1\n",
    "    return cost"
   ]
  },
  {
   "cell_type": "markdown",
   "metadata": {},
   "source": [
    "# Neighbour:\n",
    "Using this function, we determine the neighbour(next order) of current order.\n",
    "This is how we do it:\n",
    "1. We do these neib times:\n",
    "2. First we get two random numbers for index.\n",
    "3. Then we change the order, swapping the random indexes.\n",
    "4. If we get the lower cost by this new order, we Update the best order.\n",
    "\n",
    "At last, return the best order(lowest cost)."
   ]
  },
  {
   "cell_type": "code",
   "execution_count": 72,
   "metadata": {},
   "outputs": [],
   "source": [
    "def neighbour(order, stock_length, neib):\n",
    "    best_order = order.copy()\n",
    "    best_cost = calculate_cost(order, stock_length)\n",
    "    \n",
    "    for _ in range(neib):\n",
    "        new_order = order.copy()\n",
    "        # random numbers\n",
    "        i = np.random.randint(len(order))\n",
    "        j = np.random.randint(len(order))\n",
    "        \n",
    "        # new order\n",
    "        temp = new_order[i]\n",
    "        new_order[i] = new_order[j]\n",
    "        new_order[j] = temp\n",
    "        \n",
    "        # Calculate costs\n",
    "        new_cost = calculate_cost(new_order, stock_length)\n",
    "        \n",
    "        # IF the new order was better\n",
    "        if (new_cost < best_cost):\n",
    "            best_order = new_order.copy()\n",
    "    \n",
    "    return best_order, best_cost"
   ]
  },
  {
   "cell_type": "markdown",
   "metadata": {},
   "source": [
    "# Main function:\n",
    "1. We get the data.\n",
    "2. Create a permutation of requests and calculate it's cost.\n",
    "3. Find a neibour to this order.\n",
    "4. If the order is better than last order, update the order.\n",
    "5. If there is no better order for iteration times, the algorithm will terminate."
   ]
  },
  {
   "cell_type": "code",
   "execution_count": 73,
   "metadata": {},
   "outputs": [],
   "source": [
    "def Hill_Climbing(iteration, neib, i):\n",
    "    # Get the input\n",
    "    stock_length, requests = open_file(i)\n",
    "    \n",
    "    # Create a permutation\n",
    "    order = np.random.permutation(requests)\n",
    "    cost = calculate_cost(order, stock_length)\n",
    "    \n",
    "    for it in range(iteration):\n",
    "        # Find the neighbour\n",
    "        new_order, new_cost = neighbour(order, stock_length, neib)\n",
    "        # If the new order is not the same as order\n",
    "        if not (new_order == order).all():\n",
    "            it = 0\n",
    "            order = new_order.copy()\n",
    "            cost = new_cost\n",
    "        \n",
    "    return cost, order"
   ]
  },
  {
   "cell_type": "markdown",
   "metadata": {},
   "source": [
    "Results for input1 data. As we can see, the order is telling use to do the cuts like that, so we use only $\\bf{52}$ stocks."
   ]
  },
  {
   "cell_type": "code",
   "execution_count": 95,
   "metadata": {},
   "outputs": [
    {
     "name": "stdout",
     "output_type": "stream",
     "text": [
      "52\n",
      "[457 495 501 264  78  99 532 370 788  88  88 967 106 648 660 278 135 632\n",
      " 149 549 117 251 280  69  70  23 557 788 987 249 306 315 868  46 181 144\n",
      " 557 115 356 286 351 988 581 354 441 463  92  79 753 126 106 402 118 224\n",
      " 107 753 116 544 686 149  84 295 106 268 312 337 266  53 106 187  92 409\n",
      " 460  80 672 232 123 405 412  43 248 148 518 555 284 507  75 333  45 246\n",
      " 557 609 365 119 292 424 653 241 662 301 716 286 689 368 627 805 283 517\n",
      " 186 170 312 506 933 618 109 145 125  18  61 914 414 346 180  33 218 149\n",
      " 515 437 525 125 678  60 371 230 211 171 592  71 266]\n"
     ]
    }
   ],
   "source": [
    "cost, order = Hill_Climbing(500, 500, 1)\n",
    "print(cost)\n",
    "print(order)"
   ]
  },
  {
   "cell_type": "markdown",
   "metadata": {},
   "source": [
    "Results for input2 data. As we can see, the order is telling use to do the cuts like that, so we use only $\\bf{84}$ stocks."
   ]
  },
  {
   "cell_type": "code",
   "execution_count": 88,
   "metadata": {},
   "outputs": [
    {
     "name": "stdout",
     "output_type": "stream",
     "text": [
      "84\n",
      "[1930 2200 1820 2050 1820 2150 1880 2140 1930 1710 1930 2140 1560 1380\n",
      " 1520 2140 1930 1380 2050 1820 2200 2140 1520 1380 2140 1930 1520 1380\n",
      " 1520 2140 2150 2150 1880 2200 1820 2200 1560 1820 1880 1710 2150 2100\n",
      " 2000 2140 1520 2150 2000 2100 1380 2140 2100 2000 2100 1380 2000 1880\n",
      " 1380 1380 2150 1880 1930 2100 1880 2200 1560 1560 2000 1380 2050 2100\n",
      " 1560 2100 1520 2150 2200 1880 2200 1820 2000 2140 1560 1930 2100 1520\n",
      " 1820 2150 1520 2140 1710 1710 2050 2200 2140 1560 1710 2150 2150 1880\n",
      " 1820 1820 1520 1710 1930 1520 2100 1710 1380 1710 2050 1880 2050 1520\n",
      " 1710 2100 1710 2100 2200 2150 2000 2000 1560 1880 2200 1930 2200 1880\n",
      " 1380 2150 1380 1520 1560 1820 2000 2050 1820 1380 1930 2150 1930 2050\n",
      " 1560 2200 2150 1520 2200 1380 1520 2050 1930 2200 1380 1820 1380 2050\n",
      " 2100 1710 2150 2140 2100 1520 2150 1560 1520 1930 2150 2200 2200 1880\n",
      " 1380 2140 2200 1380 1880 1820 2140 2050 1380 1710 1820 1560 1520 2000\n",
      " 2200 1380 1520 1820 1380 1520 1930 1880 1520 2050 1930 1820 2150 1820\n",
      " 1520 2200 1880 2140 1930 1930 1520 1710 1520 1820 2100 2140 1710 1930\n",
      " 1380 1520 1930 1880 1930 2200 1880 1880]\n"
     ]
    }
   ],
   "source": [
    "cost, order = Hill_Climbing(500, 500, 2)\n",
    "print(cost)\n",
    "print(order)"
   ]
  },
  {
   "cell_type": "markdown",
   "metadata": {},
   "source": [
    "Results for input3 data. As we can see, the order is telling use to do the cuts like that, so we use only $\\bf{99}$ stocks."
   ]
  },
  {
   "cell_type": "code",
   "execution_count": 91,
   "metadata": {},
   "outputs": [
    {
     "name": "stdout",
     "output_type": "stream",
     "text": [
      "99\n",
      "[  7   3 359   1   2   1 433  12   2  16   4 470 197   5   7   6   1   1\n",
      " 277   1   2 224   4   6 213   1   2  18   4   8  12   5  21   9   9   9\n",
      "   6 169 229   1   1 314   1   1 174 360 134   6 280 166   1   3 314  14\n",
      " 152   1  16   1  17   1  20  67   9   8  16   6   2   8   6  12   3   2\n",
      " 271   1 128   1 170   9   7  24 147   2 421   6   9   6   2 282   1 184\n",
      " 167  23   1  40   2  12  11  10 209  12 130   7   1   6   3  72  10   5\n",
      "   1 265   2   3 115   2   1   8   8   1   9   9   9   6 315 196 243  10\n",
      "   1   5 147   1 264 290   2  18   2 180   3   2   2   1   3 152 234   6\n",
      "   4  34 191 159 156   1   2   3  16  15  13   2 255   8   6   3  11   8\n",
      "   4   2   4   2   7 271   4 178  11  12   4 172   3   8   8 288   3  12\n",
      "  24   1   5   9  21  17  12   3   2   2  43  16   3   1   8  12   3   4\n",
      "   6   5 245   3   9   3  43   7 350   1   1  13   3   4  19 144 152   6\n",
      "   5   3 165   1 120   3  13  14 234 108  79   1   8   3 183 189  14  11\n",
      " 153  98 227  10   9   5   5 152 321   7   2  59   7   3 403   1   3  11\n",
      "   7 170   9   2   1  15 260 411  10  11  11   1  89  41   7   1 138   4\n",
      "   3   2  15 163   2 479 133 343   4 157  16  24  11  68   7  87   6  11\n",
      "   7  13  87   7  12 170   7   4   2   2  25   7   4 160 298   4   5  49\n",
      "   5  17  11   7  92   5   5   4  85  10 109   7  11   3 228   5 251 131\n",
      "   5   3 153  24 204 111   5 419   5 331   2 162 244 243  28   5 399  14\n",
      "   2  10   4   7   1   9 214 240  11  22   1 112  24   3  10   5   3 275\n",
      "   3   3  18   7  38   8   7  14 159 243  11  26 364   1   5   9   5  26\n",
      "  21   3  50 314   9 458   2   5   8  10 102   6 313  68   6 204 225  13\n",
      " 313  66   6   5   4   2   3   4  45   4   1   2   5   9   9  16   8   3\n",
      "   1  29   8   1   6   1 311   1  38  15   3   1   1   2   6   1  11   9\n",
      "   6   6   2 430   4  16   9 361   6   2   3   3  19  10   7  86   9  92\n",
      "   7  91  12   8   5 186 158 314   7   3  21  13 405   4   1  27   5   3\n",
      "   9   9   9 224   6   3  21   4   7  10   2   1  86   9  96   5  14 125\n",
      " 339   4   7   8   7   3   1   8   7   1   3  10   1   6   4   6 111   1\n",
      "  98   1   7   9   5 132 138   7   3 187  18 118   6   6   8  25   3  32\n",
      "   4   5   6 335   4 174 255   6   6   8   9  17 369  27   8   5   2   5\n",
      "   1   9   9  27  12   5   5 201   1   6   7 152   2   2   6   2   1   7\n",
      " 281  14 188   4  15  15   5   3   4   2  11  13   7 264   9  15  74  61\n",
      "  14   7 205  11   9 199  35 275   4 134  18   3   5  90   1 209  13   3\n",
      " 178   1   1   4 135 299 144 106   2 154  17   1  23   1   4   9  92   6\n",
      " 124  14   2   8  10   1   4   5  11  16   4 167  12  10  88  17   6  11\n",
      "  14   2  34  39 245   2   7   8   8   7  15   2   5  34  10   6   5   9\n",
      "   7   1   1   3   6  13   2   6  92   3 161   2   1 116   2  16   1 263\n",
      "   7 133 151  18   4   8   2  19   3   6   1  37   2   2   4   8   3 225\n",
      "   5   1   8  19 250   3  11   1   4   1  99   5   5 239   8   1 102   4\n",
      "   3   8   7   5   3   3  14  10   4   2   7   3  76  17   1   7  21  14\n",
      "   7   2  49 134   7   3  21   8  36   1   2 150 138 318   1  18  75   6\n",
      "   5   2 263  13   2   4   3  23   5   4   2   8   8  54   6   2  14   6\n",
      " 124   3  10  12   3 116 169   5   2   4   4  49  14   3 245   2 274 108\n",
      "   2   4 167   7   4   7  41   2   2  21   3   2 147   2   9   5   1   5\n",
      "  93   1  12 386   2   8 198   2  17  19   4   1   5  14  18  76   4   3\n",
      "  66   2   1   2   7 124  87   5  86  13 139 134   1   6 126  97 279  13\n",
      "   6   6   2   1  23   9  12  78   1   6   2  13   4  18   9  11   3  14\n",
      "   9  52   8   9 319 110   1   1   9   2 237  26  17]\n"
     ]
    }
   ],
   "source": [
    "cost, order = Hill_Climbing(500, 500, 3)\n",
    "print(cost)\n",
    "print(order)"
   ]
  },
  {
   "cell_type": "markdown",
   "metadata": {},
   "source": [
    "Results for input4 data. As we can see, the order is telling use to do the cuts like that, so we use only $\\bf{}$ stocks."
   ]
  },
  {
   "cell_type": "code",
   "execution_count": 97,
   "metadata": {},
   "outputs": [
    {
     "name": "stdout",
     "output_type": "stream",
     "text": [
      "225\n",
      "[18 35 15 32 59  2 19  6  2  3 56  4  4  2 14  5  3 92  7  6 46  9 32  5\n",
      "  7  9 43 15 68 10  8 28 47  2 19 15 72 20 30  5 27 23 52 14 62 26 44  4\n",
      "  6  7 37 60  5 33 10  3  5  1 12 59  2 79 39 14 26  5  6  2 16 23 50 39\n",
      "  4 52  4 13 82  5  4 17 47 16 67  6 11 95 26 48 23 47  8  2  8  8 47 20\n",
      " 23  7  5 13  3 31  3  7 17  3  5 46 36  1  5  4 41  5  1 35 45 22 26 23\n",
      "  9 32 20 98 37 12  6 10 43 55  3 51 24 18 28 12 23 43 36 27 51 74 11 36\n",
      "  9 11  5  1 16 13 90  4 81  6  5 13 38 16 22  8  7 34 37 13 39  4 22 32\n",
      " 37  5 20  8 14 20 13 54  7 46 37  5 29  3 51 17  1 28 69  6 10 20 46  8\n",
      "  6 10 66  9 72 19  1  2  5  2 10 12 47 24 38 15 30 61  1  3  8 15  2  1\n",
      " 22 13 58 36  5  8 21 30  4 36  4 20 11  5  8 16 16  4 44  9 66 22 89 16\n",
      "  4 71 18 24  3 33 47 31 18  3 24 18 36 14  6 56  4 25 23  1 27 31  6 27\n",
      " 17 30 23 12  1  3  4 74 67  8 19 46 54  8 56 19 33 24 18 18 16 27  2  8\n",
      " 11 18  4  7  4 14  5 44 22 10 65  5 16 20 79 25 51 22 29 15  3 24 21  4\n",
      "  5  8 15 65 20  6 18  5 34  2 10 14 56 13 10 80  3 13 33  2 13 30 43  8\n",
      "  9 34  3  1 62  6 17  3  8 18 20 53 73 16 17 15 35  3  2  3 22 47 21 21\n",
      " 35  2 61 20  6 24  1 12  5 14 14 21 15 52  7  3  2 91 15  2 27 13  3  7\n",
      "  1 28 87  5 93  1 22  3  2 11 19 31  4 15 61 14 10 34 59 56  5  4  2  2\n",
      " 26  3 28 59 34 18  8 15 24  9 16 15 13 31 26 54 22  3  5 12 13 17 22 14\n",
      " 38 47  6 48 31 34  4  9 37  9 87 12  6 76  7 16 17 38 73 70  4  3  1 71\n",
      " 27 58 20 20  2  3 10 22 24 41  1 63 20 69 43 25  6  6 44 50  1 21 15 60\n",
      "  6 32 11  6  9  9  5 92 36 16  4 24 15 37  4  5 52  4  3 35  3 25 24 10\n",
      "  6 75  7 34 62  5 57 20 10 26 46 24 48 21  5  7 68 28 29 39 18  9  8 67\n",
      "  5  2 89 21 10  2 29 18  5  1 14  7  1  9  5 51  5 19 14 28 45  2  4 15\n",
      " 34 10 35  1 54 20 11  7 16  3  1  7  2 44 24 23  9 63 12  6 40 37  1 74\n",
      " 18 91  1  6 56 18  6 10 33  4  4  4 29  9  5 45 20  1 25 80 20  7 47  2\n",
      " 13 32 12  2 50  7 21 20  2  5 19  2 23  2 88 12 11 10  5 50  3  2  5  9\n",
      " 45 46  9  3  6 67 18 31 34 51 25 10 13 32  6 29  2 15  7  6  1 93  9  5\n",
      " 38 30  5 18 13 58 14 32  3 18  8 14  4 27  6  2 47 57  5 10  4 89 59 14\n",
      " 78 15 73 17 31 47  6  3  3 40 25 34 33 11  3 25  2  6 10  1 99 16 27  6\n",
      "  8 10  6  4 54 46 13 44 11  4  2 12  5  7  4 74 17  5 44 42 33 66 20  8\n",
      "  7 12 16  2 19 51  6  9  5  3  9 68  9 16  3 30  4  5 50 20  3 12  7  6\n",
      " 16 18 52 11 34 32 38  6 21 33 18  7  2  3 16  4  5  4  9 81  5  1 43 27\n",
      " 48 30 58 18  6  6 15 25  1  8 39 14 10 74 72  9 12  7 12  2  6 38 12  4\n",
      "  1 56 44 10 14 67 78 27 26  1 31 80 13  2  8 65 38 61 15 65  2  6  7  4\n",
      " 22 22  7 47 55  8 21 80 36 40  3 14 66  2 21  2  8 13  4  9 71 21  6 73\n",
      " 43  1  2 21 26 20 26 21  6 26 68 18  3 13 12 19 14 21  1  4 98 12 54 30\n",
      " 33 21 16 38 32  2 11  7 84  7  6 26 33  3 11 22  4 17 19 12 37 13  1  7\n",
      " 51  1  9 24  8  7 35 33 11  7  7]\n"
     ]
    }
   ],
   "source": [
    "cost, order = Hill_Climbing(500, 500, 4)\n",
    "print(cost)\n",
    "print(order)"
   ]
  }
 ],
 "metadata": {
  "kernelspec": {
   "display_name": "Python 3",
   "language": "python",
   "name": "python3"
  },
  "language_info": {
   "codemirror_mode": {
    "name": "ipython",
    "version": 3
   },
   "file_extension": ".py",
   "mimetype": "text/x-python",
   "name": "python",
   "nbconvert_exporter": "python",
   "pygments_lexer": "ipython3",
   "version": "3.8.6"
  }
 },
 "nbformat": 4,
 "nbformat_minor": 2
}
